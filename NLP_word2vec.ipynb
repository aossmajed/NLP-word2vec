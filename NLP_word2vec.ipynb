{
  "nbformat": 4,
  "nbformat_minor": 0,
  "metadata": {
    "colab": {
      "provenance": [],
      "collapsed_sections": [],
      "include_colab_link": true
    },
    "kernelspec": {
      "name": "python3",
      "display_name": "Python 3"
    },
    "language_info": {
      "name": "python"
    }
  },
  "cells": [
    {
      "cell_type": "markdown",
      "metadata": {
        "id": "view-in-github",
        "colab_type": "text"
      },
      "source": [
        "<a href=\"https://colab.research.google.com/github/aossmajed/NLP-word2vec/blob/main/NLP_word2vec.ipynb\" target=\"_parent\"><img src=\"https://colab.research.google.com/assets/colab-badge.svg\" alt=\"Open In Colab\"/></a>"
      ]
    },
    {
      "cell_type": "markdown",
      "source": [
        "Aoss Majed Sultan Zaid\n",
        "\n",
        "Mohamed Walid Mohamed "
      ],
      "metadata": {
        "id": "KjB69bzDW58Y"
      }
    },
    {
      "cell_type": "markdown",
      "source": [
        "Install Wikipedia"
      ],
      "metadata": {
        "id": "bfyFDL_2Xju2"
      }
    },
    {
      "cell_type": "code",
      "execution_count": null,
      "metadata": {
        "colab": {
          "base_uri": "https://localhost:8080/"
        },
        "id": "6iuSDL_zaa3g",
        "outputId": "a0954d1a-70af-4ef7-d4f7-3bdabaa3aced"
      },
      "outputs": [
        {
          "output_type": "stream",
          "name": "stdout",
          "text": [
            "Requirement already satisfied: wikipedia in /usr/local/lib/python3.7/dist-packages (1.4.0)\n",
            "Requirement already satisfied: requests<3.0.0,>=2.0.0 in /usr/local/lib/python3.7/dist-packages (from wikipedia) (2.23.0)\n",
            "Requirement already satisfied: beautifulsoup4 in /usr/local/lib/python3.7/dist-packages (from wikipedia) (4.6.3)\n",
            "Requirement already satisfied: certifi>=2017.4.17 in /usr/local/lib/python3.7/dist-packages (from requests<3.0.0,>=2.0.0->wikipedia) (2021.10.8)\n",
            "Requirement already satisfied: chardet<4,>=3.0.2 in /usr/local/lib/python3.7/dist-packages (from requests<3.0.0,>=2.0.0->wikipedia) (3.0.4)\n",
            "Requirement already satisfied: urllib3!=1.25.0,!=1.25.1,<1.26,>=1.21.1 in /usr/local/lib/python3.7/dist-packages (from requests<3.0.0,>=2.0.0->wikipedia) (1.24.3)\n",
            "Requirement already satisfied: idna<3,>=2.5 in /usr/local/lib/python3.7/dist-packages (from requests<3.0.0,>=2.0.0->wikipedia) (2.10)\n",
            "Requirement already satisfied: wikipedia-api in /usr/local/lib/python3.7/dist-packages (0.5.4)\n",
            "Requirement already satisfied: requests in /usr/local/lib/python3.7/dist-packages (from wikipedia-api) (2.23.0)\n",
            "Requirement already satisfied: urllib3!=1.25.0,!=1.25.1,<1.26,>=1.21.1 in /usr/local/lib/python3.7/dist-packages (from requests->wikipedia-api) (1.24.3)\n",
            "Requirement already satisfied: certifi>=2017.4.17 in /usr/local/lib/python3.7/dist-packages (from requests->wikipedia-api) (2021.10.8)\n",
            "Requirement already satisfied: chardet<4,>=3.0.2 in /usr/local/lib/python3.7/dist-packages (from requests->wikipedia-api) (3.0.4)\n",
            "Requirement already satisfied: idna<3,>=2.5 in /usr/local/lib/python3.7/dist-packages (from requests->wikipedia-api) (2.10)\n"
          ]
        }
      ],
      "source": [
        "!pip install wikipedia\n",
        "!pip install wikipedia-api"
      ]
    },
    {
      "cell_type": "code",
      "source": [
        "import wikipedia\n",
        "import wikipediaapi\n",
        "wiki_WIKI = wikipediaapi.Wikipedia(\n",
        "        language='en',\n",
        "        extract_format=wikipediaapi.ExtractFormat.WIKI )"
      ],
      "metadata": {
        "id": "zHDmq10Ib0hm"
      },
      "execution_count": null,
      "outputs": []
    },
    {
      "cell_type": "markdown",
      "source": [
        "#Domain(1)"
      ],
      "metadata": {
        "id": "BwM3EK-pbJz5"
      }
    },
    {
      "cell_type": "code",
      "source": [
        "import wikipediaapi\n",
        "DOC1 = wiki_WIKI.page(\"Artificial Intelligence\").text\n",
        "DOC2 = wiki_WIKI.page(\"computer science\").text\n",
        "DOC3 = wiki_WIKI.page(\"Information Technology\").text\n",
        "DOC4 = wiki_WIKI.page(\"information systems\").text\n"
      ],
      "metadata": {
        "id": "fYYIGeZbbVbz"
      },
      "execution_count": null,
      "outputs": []
    },
    {
      "cell_type": "markdown",
      "source": [
        "#Domain(2)"
      ],
      "metadata": {
        "id": "uOGrhgkObKEi"
      }
    },
    {
      "cell_type": "code",
      "source": [
        "DOC5 = wiki_WIKI.page(\"cholera\").text\n",
        "DOC6 = wiki_WIKI.page(\"measles\").text\n",
        "DOC7 = wiki_WIKI.page(\"COVID-19\").text\n",
        "DOC8 = wiki_WIKI.page(\"Pneumonia\").text\n"
      ],
      "metadata": {
        "id": "NbqwfqlpbSB_"
      },
      "execution_count": null,
      "outputs": []
    },
    {
      "cell_type": "markdown",
      "source": [
        "#Domain(3)"
      ],
      "metadata": {
        "id": "72m6byubbKLI"
      }
    },
    {
      "cell_type": "code",
      "source": [
        "DOC9 = wiki_WIKI.page(\"BITCOIN\").text\n",
        "DOC10 = wiki_WIKI.page(\"Litecoin\").text\n",
        "DOC11 = wiki_WIKI.page(\"Dogecoin\").text\n",
        "DOC12 = wiki_WIKI.page(\"Ethereum\").text\n"
      ],
      "metadata": {
        "id": "9hsg9MiBmzY7"
      },
      "execution_count": null,
      "outputs": []
    },
    {
      "cell_type": "markdown",
      "source": [
        "#Domain(4)"
      ],
      "metadata": {
        "id": "Or2aWUYkbKRu"
      }
    },
    {
      "cell_type": "code",
      "source": [
        "DOC13 = wiki_WIKI.page(\"Aspirin\").text\n",
        "DOC14 = wiki_WIKI.page(\"Paracetamol\").text\n",
        "DOC15 = wiki_WIKI.page(\"Insulin (medication)\").text\n",
        "DOC16 = wiki_WIKI.page(\"Minoxidil\").text\n"
      ],
      "metadata": {
        "id": "nh0vjqEGn_Rv"
      },
      "execution_count": null,
      "outputs": []
    },
    {
      "cell_type": "markdown",
      "source": [
        "#Domain(5)"
      ],
      "metadata": {
        "id": "9TdWF8fmbKbP"
      }
    },
    {
      "cell_type": "code",
      "source": [
        "DOC17 = wiki_WIKI.page(\"Microsoft Windows\").text\n",
        "DOC18 = wiki_WIKI.page(\"Linux\").text\n",
        "DOC19 = wiki_WIKI.page(\"macOS\").text\n",
        "DOC20 = wiki_WIKI.page(\"Android (operating system)\").text\n"
      ],
      "metadata": {
        "id": "iAqcF3JvqBX3"
      },
      "execution_count": null,
      "outputs": []
    },
    {
      "cell_type": "markdown",
      "source": [
        "Topics"
      ],
      "metadata": {
        "id": "0coWv08KWxfQ"
      }
    },
    {
      "cell_type": "code",
      "source": [
        "search = [\"Artificial Intelligence\",\"computer science\",\"Information Technology\",\"information systems\",\n",
        "          \"cholera\",\"measles\",\"COVID-19\",\"Pneumonia\",\n",
        "          \"BITCOIN\",\"Litecoin\",\"Dogecoin\",\"Ethereum\",\n",
        "          \"Aspirin\",\"Paracetamol\",\"Insulin (medication)\",\"Minoxidil\",\n",
        "          \"Microsoft Windows\",\"Linux\",\"macOS\",\"Android (operating system)\"]\n",
        "len(search)"
      ],
      "metadata": {
        "colab": {
          "base_uri": "https://localhost:8080/"
        },
        "id": "E-cEB4AiqHtT",
        "outputId": "b60740e4-b2cf-4f9d-a22e-4795ff49a2ec"
      },
      "execution_count": null,
      "outputs": [
        {
          "output_type": "execute_result",
          "data": {
            "text/plain": [
              "20"
            ]
          },
          "metadata": {},
          "execution_count": 30
        }
      ]
    },
    {
      "cell_type": "markdown",
      "source": [
        "Install nltk"
      ],
      "metadata": {
        "id": "NWwUp1bPXvno"
      }
    },
    {
      "cell_type": "code",
      "source": [
        "!pip install nltk\n",
        "import nltk\n",
        "nltk.download('punkt')\n",
        "nltk.download('stopwords')"
      ],
      "metadata": {
        "colab": {
          "base_uri": "https://localhost:8080/"
        },
        "id": "7HfUAPxu2GRZ",
        "outputId": "21159745-3ad3-485c-90c6-121da4135861"
      },
      "execution_count": null,
      "outputs": [
        {
          "output_type": "stream",
          "name": "stdout",
          "text": [
            "Requirement already satisfied: nltk in /usr/local/lib/python3.7/dist-packages (3.2.5)\n",
            "Requirement already satisfied: six in /usr/local/lib/python3.7/dist-packages (from nltk) (1.15.0)\n",
            "[nltk_data] Downloading package punkt to /root/nltk_data...\n",
            "[nltk_data]   Package punkt is already up-to-date!\n",
            "[nltk_data] Downloading package stopwords to /root/nltk_data...\n",
            "[nltk_data]   Package stopwords is already up-to-date!\n"
          ]
        },
        {
          "output_type": "execute_result",
          "data": {
            "text/plain": [
              "True"
            ]
          },
          "metadata": {},
          "execution_count": 31
        }
      ]
    },
    {
      "cell_type": "markdown",
      "source": [
        "Normalize The Words(Lower Case)\n",
        "\n",
        "Remove Punkt\n",
        "\n",
        "Tokenize The Documents\n",
        "\n",
        "Remove Stop Words"
      ],
      "metadata": {
        "id": "cqCFPcqXXznm"
      }
    },
    {
      "cell_type": "code",
      "source": [
        "import re\n",
        "from nltk.corpus import stopwords\n",
        "from nltk.tokenize import word_tokenize\n",
        "stop_words = set(stopwords.words('english'))\n",
        "def process(doc) :\n",
        "  doc =doc.lower()\n",
        "  doc= re.sub(r'[^\\w\\s]', ' ', doc)\n",
        "  doc= nltk.word_tokenize(doc)\n",
        "  doc = [w for w in doc if not w.lower() in stop_words]\n",
        "\n",
        "  return doc"
      ],
      "metadata": {
        "id": "LTuAVAiu8qDE"
      },
      "execution_count": null,
      "outputs": []
    },
    {
      "cell_type": "code",
      "source": [
        "DOC1=process(DOC1)\n",
        "DOC2=process(DOC2)\n",
        "DOC3=process(DOC3)\n",
        "DOC4=process(DOC4)\n",
        "DOC5=process(DOC5)\n",
        "DOC6=process(DOC6)\n",
        "DOC7=process(DOC7)\n",
        "DOC8=process(DOC8)\n",
        "DOC9=process(DOC9)\n",
        "DOC10=process(DOC10)\n",
        "DOC11=process(DOC11)\n",
        "DOC12=process(DOC12)\n",
        "DOC13=process(DOC13)\n",
        "DOC14=process(DOC14)\n",
        "DOC15=process(DOC15)\n",
        "DOC16=process(DOC16)\n",
        "DOC17=process(DOC17)\n",
        "DOC18=process(DOC18)\n",
        "DOC19=process(DOC19)\n",
        "DOC20=process(DOC20)"
      ],
      "metadata": {
        "id": "IEKf-sLEC8G0"
      },
      "execution_count": null,
      "outputs": []
    },
    {
      "cell_type": "markdown",
      "source": [
        "Store The Words Of Each Document"
      ],
      "metadata": {
        "id": "-XD4CCliYdSG"
      }
    },
    {
      "cell_type": "code",
      "source": [
        "ALL_tokenized_sentences=[DOC1,DOC2,DOC3,DOC4,DOC5,DOC6,DOC7,DOC8,DOC9,DOC10,DOC11,DOC12,DOC13,DOC14,DOC15,DOC16,DOC17,DOC18,DOC19,DOC20]\n"
      ],
      "metadata": {
        "id": "EKCP-42N5nfx"
      },
      "execution_count": null,
      "outputs": []
    },
    {
      "cell_type": "code",
      "source": [
        "import numpy as np\n",
        "len(ALL_tokenized_sentences)\n",
        "ALL_tokenized_sentences=np.array(ALL_tokenized_sentences)\n"
      ],
      "metadata": {
        "colab": {
          "base_uri": "https://localhost:8080/"
        },
        "id": "Te7SXIeN6WL7",
        "outputId": "13855573-cc7b-4a27-86b7-82e7b54e526b"
      },
      "execution_count": null,
      "outputs": [
        {
          "output_type": "stream",
          "name": "stderr",
          "text": [
            "/usr/local/lib/python3.7/dist-packages/ipykernel_launcher.py:3: VisibleDeprecationWarning: Creating an ndarray from ragged nested sequences (which is a list-or-tuple of lists-or-tuples-or ndarrays with different lengths or shapes) is deprecated. If you meant to do this, you must specify 'dtype=object' when creating the ndarray.\n",
            "  This is separate from the ipykernel package so we can avoid doing imports until\n"
          ]
        }
      ]
    },
    {
      "cell_type": "markdown",
      "source": [
        "Download The Drive in Google Colab"
      ],
      "metadata": {
        "id": "rWGuEQFwYnZe"
      }
    },
    {
      "cell_type": "code",
      "source": [
        "from google.colab import drive\n",
        "import cv2\n",
        "drive.mount('/content/drive/')\n"
      ],
      "metadata": {
        "colab": {
          "base_uri": "https://localhost:8080/"
        },
        "id": "S5xF91oUutfI",
        "outputId": "53288cfc-4598-4aa0-d9d9-7a06b0d827c4"
      },
      "execution_count": null,
      "outputs": [
        {
          "output_type": "stream",
          "name": "stdout",
          "text": [
            "Drive already mounted at /content/drive/; to attempt to forcibly remount, call drive.mount(\"/content/drive/\", force_remount=True).\n"
          ]
        }
      ]
    },
    {
      "cell_type": "markdown",
      "source": [
        "Download The Model in Google Colab"
      ],
      "metadata": {
        "id": "VP1AkEGMYwvO"
      }
    },
    {
      "cell_type": "code",
      "source": [
        "!sudo cp -v -r  \"/content/drive/MyDrive/Google/GoogleNews-vectors-negative300.bin\"  \"/content/drive/MyDrive/model\"\n"
      ],
      "metadata": {
        "colab": {
          "base_uri": "https://localhost:8080/"
        },
        "id": "tJE4wcnubODl",
        "outputId": "08c76eae-abb5-4b41-840c-61c93a796a25"
      },
      "execution_count": null,
      "outputs": [
        {
          "output_type": "stream",
          "name": "stdout",
          "text": [
            "'/content/drive/MyDrive/Google/GoogleNews-vectors-negative300.bin' -> '/content/drive/MyDrive/model/GoogleNews-vectors-negative300.bin'\n"
          ]
        }
      ]
    },
    {
      "cell_type": "code",
      "source": [
        "!gunzip \"/content/drive/MyDrive/Google/GoogleNews-vectors-negative300.bin.gz\"\n"
      ],
      "metadata": {
        "colab": {
          "base_uri": "https://localhost:8080/"
        },
        "id": "u8m42xpDwcmH",
        "outputId": "868081c9-c20c-42fa-b85c-d184b7f59e1e"
      },
      "execution_count": null,
      "outputs": [
        {
          "output_type": "stream",
          "name": "stdout",
          "text": [
            "gzip: /content/drive/MyDrive/Google/GoogleNews-vectors-negative300.bin.gz: No such file or directory\n"
          ]
        }
      ]
    },
    {
      "cell_type": "code",
      "source": [
        "import gensim\n",
        "from gensim.models import Word2Vec , KeyedVectors\n",
        "from gensim.models import Word2Vec\n",
        "from gensim.models.wrappers import FastText\n",
        "model = KeyedVectors.load_word2vec_format('/content/drive/MyDrive/Google/GoogleNews-vectors-negative300.bin', binary=True)"
      ],
      "metadata": {
        "id": "8dq5lKUU0zIR"
      },
      "execution_count": null,
      "outputs": []
    },
    {
      "cell_type": "markdown",
      "source": [
        "Word Embedding"
      ],
      "metadata": {
        "id": "JUHhwcn7Y74G"
      }
    },
    {
      "cell_type": "code",
      "source": [
        "d = []\n",
        "Documents=[]\n",
        "for i in range(0,len(ALL_tokenized_sentences)):\n",
        "  for j in range(0,len(ALL_tokenized_sentences[i])):\n",
        "    try:\n",
        "      a=model[ALL_tokenized_sentences[i][j]]\n",
        "      d.append(a)\n",
        "    except:\n",
        "      pass\n",
        "  Documents.append(d.copy())\n",
        "  d.clear()"
      ],
      "metadata": {
        "id": "auU7Fz6b3_J3"
      },
      "execution_count": null,
      "outputs": []
    },
    {
      "cell_type": "code",
      "source": [
        "len(Documents)"
      ],
      "metadata": {
        "colab": {
          "base_uri": "https://localhost:8080/"
        },
        "id": "EeWlF-R6d8yj",
        "outputId": "cd03c69e-d2a8-4423-8464-8c911d36f43e"
      },
      "execution_count": null,
      "outputs": [
        {
          "output_type": "execute_result",
          "data": {
            "text/plain": [
              "20"
            ]
          },
          "metadata": {},
          "execution_count": 41
        }
      ]
    },
    {
      "cell_type": "markdown",
      "source": [
        "Document Embedding"
      ],
      "metadata": {
        "id": "utZrhA5vZAgm"
      }
    },
    {
      "cell_type": "code",
      "source": [
        "sum = 0\n",
        "average = 0\n",
        "All_Documents = []\n",
        "for i in range(0,len(Documents)):\n",
        "  for j in range(0,len(Documents[i])):\n",
        "    sum += Documents[i][j]\n",
        "  average = sum / len(Documents[i])\n",
        "  All_Documents.append(average)\n",
        "  sum=0\n",
        "  average=0"
      ],
      "metadata": {
        "id": "yBaJ8a-RgD1N"
      },
      "execution_count": null,
      "outputs": []
    },
    {
      "cell_type": "markdown",
      "source": [
        "Test"
      ],
      "metadata": {
        "id": "73ReKlGZla5Z"
      }
    },
    {
      "cell_type": "code",
      "source": [
        "def Test(sentence):\n",
        "  z = []\n",
        "  A = process(sentence)\n",
        "  for i in range(0,len(A)):\n",
        "     z.append(model[A[i]])\n",
        "\n",
        "  sum = 0\n",
        "  average = 0\n",
        "  for i in range(0,len(z)):\n",
        "     sum += z[i]\n",
        "  average = sum / len(z)\n",
        "  return average\n",
        "\n",
        "def Distance(average):\n",
        "   Similarity = []\n",
        "\n",
        "   for i in range(0,len(All_Documents)):\n",
        "     Similarity.append(np.sum(np.power(average-All_Documents[i],2)))\n",
        "\n",
        "   Sort = 0\n",
        "   for i in range(0,len(All_Documents)):\n",
        "      Sort = np.argmin(Similarity)\n",
        "      print(f'{search[Sort]} : {Similarity[Sort]}')\n",
        "      Similarity[Sort] = 1000000000000\n",
        "   print('----------------------------------------------------------')\n",
        "\n",
        "sentence1 = Test('windows is operating system')\n",
        "Distance(sentence1)\n",
        "\n",
        "sentence2 = Test('Population density leads to the spread of diseases')\n",
        "Distance(sentence2)\n",
        "\n",
        "sentence3 = Test('There are many sections in the field of programming such as Computer Science')\n",
        "Distance(sentence3)"
      ],
      "metadata": {
        "id": "-CHFSq00l425",
        "colab": {
          "base_uri": "https://localhost:8080/"
        },
        "outputId": "558d8cc4-a365-43f7-8ef4-251cdd4fc3bd"
      },
      "execution_count": null,
      "outputs": [
        {
          "output_type": "stream",
          "name": "stdout",
          "text": [
            "Microsoft Windows : 1.7904033660888672\n",
            "Linux : 2.2730441093444824\n",
            "macOS : 2.3867759704589844\n",
            "Android (operating system) : 2.5384325981140137\n",
            "information systems : 2.5744476318359375\n",
            "Information Technology : 2.649146795272827\n",
            "Ethereum : 2.659148693084717\n",
            "BITCOIN : 2.7292866706848145\n",
            "Litecoin : 2.7334866523742676\n",
            "computer science : 2.7627711296081543\n",
            "Artificial Intelligence : 2.88145112991333\n",
            "Dogecoin : 2.9027299880981445\n",
            "COVID-19 : 3.0861430168151855\n",
            "cholera : 3.1418824195861816\n",
            "Insulin (medication) : 3.3757824897766113\n",
            "measles : 3.4207582473754883\n",
            "Aspirin : 3.4941158294677734\n",
            "Minoxidil : 3.499133586883545\n",
            "Pneumonia : 3.5051779747009277\n",
            "Paracetamol : 3.515535831451416\n",
            "----------------------------------------------------------\n",
            "measles : 1.7346611022949219\n",
            "cholera : 1.7359861135482788\n",
            "COVID-19 : 1.7547883987426758\n",
            "Pneumonia : 1.81345534324646\n",
            "Aspirin : 2.058032751083374\n",
            "Insulin (medication) : 2.2055554389953613\n",
            "Minoxidil : 2.206968307495117\n",
            "Paracetamol : 2.250260591506958\n",
            "Artificial Intelligence : 2.318636178970337\n",
            "Information Technology : 2.3323142528533936\n",
            "BITCOIN : 2.3763434886932373\n",
            "Ethereum : 2.387701988220215\n",
            "computer science : 2.390887498855591\n",
            "Litecoin : 2.398021697998047\n",
            "Dogecoin : 2.4191038608551025\n",
            "information systems : 2.4442498683929443\n",
            "Android (operating system) : 2.5660746097564697\n",
            "Linux : 2.618818521499634\n",
            "macOS : 2.6701698303222656\n",
            "Microsoft Windows : 2.812065601348877\n",
            "----------------------------------------------------------\n",
            "computer science : 0.7672520875930786\n",
            "Information Technology : 0.9721883535385132\n",
            "information systems : 1.0992032289505005\n",
            "Artificial Intelligence : 1.1170307397842407\n",
            "Linux : 1.2589428424835205\n",
            "Ethereum : 1.300541877746582\n",
            "BITCOIN : 1.312964677810669\n",
            "Android (operating system) : 1.3180731534957886\n",
            "macOS : 1.329172968864441\n",
            "Microsoft Windows : 1.3312618732452393\n",
            "Dogecoin : 1.3640097379684448\n",
            "Litecoin : 1.3641533851623535\n",
            "COVID-19 : 1.5013437271118164\n",
            "cholera : 1.5520031452178955\n",
            "measles : 1.7429282665252686\n",
            "Insulin (medication) : 1.7548977136611938\n",
            "Pneumonia : 1.8416979312896729\n",
            "Aspirin : 1.8450908660888672\n",
            "Minoxidil : 1.8908582925796509\n",
            "Paracetamol : 1.8962712287902832\n",
            "----------------------------------------------------------\n"
          ]
        }
      ]
    }
  ]
}